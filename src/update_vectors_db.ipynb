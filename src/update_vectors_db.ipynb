{
  "cells": [
    {
      "cell_type": "markdown",
      "metadata": {
        "id": "38WpOoWXUAIJ"
      },
      "source": [
        "# Setup GIT and download latest code\n",
        "Clone repository, setup GIT globals and checkout am branch"
      ]
    },
    {
      "cell_type": "code",
      "source": [
        "# Remove code folder\n",
        "%cd /content/\n",
        "!rm -rf /content/pdf-qa-bot"
      ],
      "metadata": {
        "id": "GUHP1Z2fAAFU"
      },
      "execution_count": null,
      "outputs": []
    },
    {
      "cell_type": "code",
      "execution_count": null,
      "metadata": {
        "id": "1oKaQL3fTfQs"
      },
      "outputs": [],
      "source": [
        "# Setup Repo\n",
        "%cd /content/\n",
        "!git clone https://github.com/safqore/pdf-qa-bot.git\n",
        "\n",
        "%cd /content/pdf-qa-bot\n",
        "!git config --global user.email \"abbad.minhas@gmail.com\"\n",
        "!git config --global user.name \"Abbad Minhas\"\n",
        "!git config pull.ff only\n",
        "\n",
        "!git checkout am\n",
        "!git status\n",
        "!git fetch\n",
        "!git pull"
      ]
    },
    {
      "cell_type": "markdown",
      "metadata": {
        "id": "m_srFHR_TfQw"
      },
      "source": [
        "# Install Required Libraries\n",
        "Use pip to install the necessary libraries, including langchain_community, langchain_text_splitters, langchain_huggingface, qdrant_client, and python-dotenv."
      ]
    },
    {
      "cell_type": "code",
      "execution_count": null,
      "metadata": {
        "id": "12sWiHkjTfQy"
      },
      "outputs": [],
      "source": [
        "!pip install langchain_community \\\n",
        "    langchain_text_splitters \\\n",
        "    langchain_huggingface \\\n",
        "    qdrant_client \\\n",
        "    python-dotenv \\\n",
        "    pypdf"
      ]
    },
    {
      "cell_type": "markdown",
      "metadata": {
        "id": "MPGmnSjiTfQz"
      },
      "source": [
        "# Import Required Libraries\n",
        "Import the necessary libraries, including logging, os, List from typing, load_dotenv from dotenv, PyPDFLoader, RecursiveCharacterTextSplitter, HuggingFaceEmbeddings, QdrantClient, VectorParams, and Distance."
      ]
    },
    {
      "cell_type": "code",
      "execution_count": null,
      "metadata": {
        "id": "O32PIJ_6TfQ0"
      },
      "outputs": [],
      "source": [
        "# Import Required Libraries\n",
        "import logging\n",
        "import os\n",
        "from typing import List\n",
        "from dotenv import load_dotenv\n",
        "\n",
        "from langchain_community.document_loaders import PyPDFLoader\n",
        "from langchain_text_splitters import RecursiveCharacterTextSplitter\n",
        "from langchain_huggingface import HuggingFaceEmbeddings\n",
        "from qdrant_client import QdrantClient\n",
        "from qdrant_client.http.models import VectorParams, Distance"
      ]
    },
    {
      "cell_type": "code",
      "source": [
        "# Clear the existing environment variables\n",
        "if \"QDRANT_HOST\" in os.environ:\n",
        "    del os.environ[\"QDRANT_HOST\"]"
      ],
      "metadata": {
        "id": "zElR0Z9_FPD9"
      },
      "execution_count": null,
      "outputs": []
    },
    {
      "cell_type": "code",
      "source": [
        "logging.basicConfig(level=logging.INFO)\n",
        "\n",
        "# Load environment variables from .env file\n",
        "load_dotenv('/content/pdf-qa-bot/.env')"
      ],
      "metadata": {
        "id": "dE78p-isFIak"
      },
      "execution_count": null,
      "outputs": []
    },
    {
      "cell_type": "markdown",
      "metadata": {
        "id": "K_UJzU7wTfQ1"
      },
      "source": [
        "# Define Helper Functions\n",
        "Define the helper functions load_pdf, chunk_pdf, setup_vectors_collection, and update_vectors_db."
      ]
    },
    {
      "cell_type": "code",
      "execution_count": null,
      "metadata": {
        "id": "MRlkJisKTfQ2"
      },
      "outputs": [],
      "source": [
        "# Define Helper Functions\n",
        "\n",
        "def load_pdf(str_pdf_path: str) -> List:\n",
        "    return PyPDFLoader(str_pdf_path).load()\n",
        "\n",
        "def chunk_pdf(str_pdf_content: str) -> List[str]:\n",
        "    obj_text_splitter = RecursiveCharacterTextSplitter(chunk_size=384, chunk_overlap=76)\n",
        "    return obj_text_splitter.split_text(str_pdf_content)\n",
        "\n",
        "def setup_vectors_collection(db_client: QdrantClient, collection_name: str, dimension: int) -> None:\n",
        "    if not db_client.collection_exists(collection_name):\n",
        "        db_client.create_collection(\n",
        "            collection_name=collection_name,\n",
        "            vectors_config=VectorParams(size=dimension, distance=Distance.COSINE),\n",
        "        )\n",
        "\n",
        "def update_vectors_db(lst_chunks: List[str]) -> bool:\n",
        "    try:\n",
        "        embeddings = HuggingFaceEmbeddings(model_name=\"sentence-transformers/all-mpnet-base-v2\")\n",
        "        dimension = 768\n",
        "        collection_name = \"early_career_grants_programme\"\n",
        "\n",
        "        qdrant_client = QdrantClient(\n",
        "            host=os.getenv(\"QDRANT_HOST\"),\n",
        "            api_key=os.getenv(\"QDRANT_API_KEY\"),\n",
        "        )\n",
        "        setup_vectors_collection(qdrant_client, collection_name, dimension)\n",
        "\n",
        "        vectors = [embeddings.embed_query(chunk) for chunk in lst_chunks]\n",
        "        qdrant_client.upsert(\n",
        "            collection_name=collection_name,\n",
        "            points=[\n",
        "                {\"id\": i, \"vector\": vector, \"payload\": {\"text\": lst_chunks[i]}}\n",
        "                for i, vector in enumerate(vectors)\n",
        "            ],\n",
        "        )\n",
        "        return True\n",
        "    except Exception as e:\n",
        "        logging.error(f\"An error occurred: {e}\")\n",
        "        return False"
      ]
    },
    {
      "cell_type": "markdown",
      "metadata": {
        "id": "UpWMwbJ0TfQ2"
      },
      "source": [
        "# Main Execution\n",
        "Execute the main function to load the PDF, chunk the content, and update the vectors database."
      ]
    },
    {
      "cell_type": "code",
      "execution_count": null,
      "metadata": {
        "id": "OVBQDpaXTfQ3"
      },
      "outputs": [],
      "source": [
        "# Main Execution\n",
        "logging.info(\"Loading RSTMH 2024 Early Career Grants Programme Terms and Conditions PDF ...\")\n",
        "lst_documents = load_pdf(\"/content/pdf-qa-bot/data/RSTMH 2024 Early Career Grants Programme Terms and Conditions PDF.pdf\")\n",
        "\n",
        "lst_pdf_content = [obj_document.page_content for obj_document in lst_documents]\n",
        "str_pdf_content = \" \".join(lst_pdf_content)\n",
        "\n",
        "logging.info(\"Chunking PDF content for vector update / creation ...\")\n",
        "lst_chunks = chunk_pdf(str_pdf_content)\n",
        "\n",
        "logging.info(\"Updating vectors database ...\")\n",
        "status = update_vectors_db(lst_chunks)\n",
        "if status:\n",
        "    logging.info(\"Vectors database updated successfully.\")\n",
        "else:\n",
        "    logging.error(\"Failed to update vectors database.\")"
      ]
    }
  ],
  "metadata": {
    "language_info": {
      "name": "python"
    },
    "colab": {
      "provenance": []
    },
    "kernelspec": {
      "name": "python3",
      "display_name": "Python 3"
    }
  },
  "nbformat": 4,
  "nbformat_minor": 0
}